{
 "cells": [
  {
   "cell_type": "markdown",
   "metadata": {},
   "source": [
    "# Helper"
   ]
  },
  {
   "cell_type": "code",
   "execution_count": 427,
   "metadata": {},
   "outputs": [],
   "source": [
    "#helper function\n",
    "def diff(first, second):\n",
    "        second = set(second)\n",
    "        return [item for item in first if item not in second]"
   ]
  },
  {
   "cell_type": "code",
   "execution_count": 428,
   "metadata": {},
   "outputs": [
    {
     "name": "stdout",
     "output_type": "stream",
     "text": [
      "[1, 1, 2, 2, 3, 3, 4, 4, 5, 5, 6, 6, 7, 7, 8, 8, 9, 9, 10, 10, 11, 11, 12, 12, 13, 13, 14, 14, 15, 15, 16, 16, 17, 17, 18, 18, 19, 19, 20, 20, 21, 21, 22, 22, 23, 23, 24, 24, 25, 25, 26, 26, 27, 27, 28, 28, 29, 29, 30, 30, 31, 31, 32, 32, 33, 33, 34, 34, 35, 35, 36, 36, 37, 37, 38, 38, 39, 39, 40, 40]\n"
     ]
    }
   ],
   "source": [
    "#helper function > Create list for indexing\n",
    "item_index = []\n",
    "for i in range(1,41):\n",
    "    item_index += 2 * [i]\n",
    "print(item_index)"
   ]
  },
  {
   "cell_type": "markdown",
   "metadata": {},
   "source": [
    "# Comparison type"
   ]
  },
  {
   "cell_type": "markdown",
   "metadata": {},
   "source": [
    "`Pairwise comparison of sentence pairs, accurate if score(P-sentence) > score(I-sentence):`"
   ]
  },
  {
   "cell_type": "code",
   "execution_count": 429,
   "metadata": {},
   "outputs": [
    {
     "name": "stdout",
     "output_type": "stream",
     "text": [
      "['dtfit_model_sg.txt', 'fast_vectors_sum.txt', 'sgDeps_vectors_sum.txt', 'sg_vectors_sum.txt', 'bert_large_scores.txt', 'bert_large_scores_verb.txt', 'bert_scores.txt', 'gpt2-xl-res.txt', 'roberta_large_scores.txt', 'roberta_large_scores_verb.txt', 'roberta_scores.txt', 'xlnet_large_scores.txt', 'xlnet_large_scores_verb.txt', 'xlnet_scores.txt']\n"
     ]
    }
   ],
   "source": [
    "import os\n",
    "import copy\n",
    "\n",
    "rootdir = '/Users/carinakauf/Desktop/ComputationalPlausibility/results-modeling/EventsRev/'\n",
    "\n",
    "accuracy = []\n",
    "\n",
    "def find_all_models(directory):\n",
    "    models = []\n",
    "    for subdir, dirs, files in os.walk(directory):\n",
    "        file_names = [file for file in files if \"txt\" in file]\n",
    "        transformers = [file for file in files if any(y in file for y in [\"bert\",\"xlnet\",\"gpt2\"])]\n",
    "        transformers.sort()\n",
    "        baselines = diff(file_names, transformers)\n",
    "        baselines.sort()\n",
    "        models = baselines + transformers\n",
    "        return models\n",
    "    \n",
    "model_list = find_all_models(rootdir)\n",
    "print(model_list)"
   ]
  },
  {
   "cell_type": "code",
   "execution_count": 430,
   "metadata": {},
   "outputs": [],
   "source": [
    "def get_accuracies_per_model(model_list,directory):\n",
    "    accuracies = []\n",
    "    for model in model_list:\n",
    "        df = pd.read_csv(directory+\"{}\".format(model), header = None, names = [\"plausibility\",\"sentence\",\"score\"], sep='\\t')\n",
    "        if model == \"dtfit_model_sg.txt\":\n",
    "            long_item_index = copy.deepcopy(item_index)\n",
    "            long_item_index += 2 * [41]\n",
    "            df[\"item_index\"] = long_item_index\n",
    "            accurate = 0\n",
    "            for i in range(1,42):\n",
    "                curr_df = df.loc[df['item_index'] == i]\n",
    "                if curr_df.loc[curr_df['plausibility'] == \"P\"][\"score\"].values[0] > curr_df.loc[curr_df['plausibility'] == \"I\"][\"score\"].values[0]:\n",
    "                    accurate += 1\n",
    "            accuracies.append(accurate/(len(df)/2)) \n",
    "        else:\n",
    "            df[\"item_index\"] = item_index\n",
    "            accurate = 0\n",
    "            for i in range(1,41):\n",
    "                curr_df = df.loc[df['item_index'] == i]\n",
    "                if curr_df.loc[curr_df['plausibility'] == \"P\"][\"score\"].values[0] > curr_df.loc[curr_df['plausibility'] == \"I\"][\"score\"].values[0]:\n",
    "                    accurate += 1 \n",
    "            accuracies.append(accurate/(len(df)/2)) \n",
    "    return accuracies\n",
    "\n",
    "accuracies = get_accuracies_per_model(model_list,rootdir)"
   ]
  },
  {
   "cell_type": "markdown",
   "metadata": {},
   "source": [
    "### Special treatment for PPMI/Surprisal"
   ]
  },
  {
   "cell_type": "code",
   "execution_count": 431,
   "metadata": {},
   "outputs": [],
   "source": [
    "xls_df = pd.read_excel(\"typicalityModels.xlsx\")\n",
    "#xls_df"
   ]
  },
  {
   "cell_type": "code",
   "execution_count": 432,
   "metadata": {},
   "outputs": [
    {
     "name": "stdout",
     "output_type": "stream",
     "text": [
      "0 surprisal\n",
      "1 ppmi\n",
      "[0.475, 0.85]\n"
     ]
    }
   ],
   "source": [
    "xls_models = [\"surprisal\",\"ppmi\"]\n",
    "xls_accuracies = []\n",
    "for ind, model in enumerate(xls_models):\n",
    "    xls_df = pd.read_excel(\"typicalityModels.xlsx\")\n",
    "    xls_df[\"item_index\"] = item_index\n",
    "    accurate = 0\n",
    "    print(ind,model)\n",
    "    for i in range(1,41):\n",
    "        curr_df = xls_df.loc[xls_df['item_index'] == i]\n",
    "        if model == \"surprisal\":\n",
    "            if curr_df.loc[curr_df['Typicality'] == \"P\"][\"Surprisal\"].values[0] < curr_df.loc[curr_df['Typicality'] == \"I\"][\"Surprisal\"].values[0]:\n",
    "                accurate += 1 \n",
    "        else:\n",
    "            if curr_df.loc[curr_df['Typicality'] == \"P\"][\"ppmi\"].values[0] > curr_df.loc[curr_df['Typicality'] == \"I\"][\"ppmi\"].values[0]:\n",
    "                accurate += 1 \n",
    "    xls_accuracies.append(accurate/(len(xls_df)/2)) \n",
    "print(xls_accuracies)"
   ]
  },
  {
   "cell_type": "markdown",
   "metadata": {},
   "source": [
    "# Add to other model scores"
   ]
  },
  {
   "cell_type": "code",
   "execution_count": 433,
   "metadata": {},
   "outputs": [],
   "source": [
    "all_models = xls_models + model_list\n",
    "all_accuracies = xls_accuracies + accuracies"
   ]
  },
  {
   "cell_type": "markdown",
   "metadata": {},
   "source": [
    "# Plotting"
   ]
  },
  {
   "cell_type": "code",
   "execution_count": 434,
   "metadata": {},
   "outputs": [
    {
     "name": "stdout",
     "output_type": "stream",
     "text": [
      "['surprisal', 'ppmi', 'dtfit_model_sg', 'fast_vectors_sum', 'sgDeps_vectors_sum', 'sg_vectors_sum', 'bert_large_scores', 'bert_large_scores_verb', 'bert_scores', 'gpt2-xl-res', 'roberta_large_scores', 'roberta_large_scores_verb', 'roberta_scores', 'xlnet_large_scores', 'xlnet_large_scores_verb', 'xlnet_scores']\n"
     ]
    }
   ],
   "source": [
    "model_names = [model.split(\".\")[0] for model in all_models]\n",
    "print(model_names)"
   ]
  },
  {
   "cell_type": "code",
   "execution_count": 435,
   "metadata": {},
   "outputs": [
    {
     "data": {
      "image/png": "[encoded data removed]",
      "text/plain": [
       "<Figure size 432x288 with 1 Axes>"
      ]
     },
     "metadata": {
      "needs_background": "light"
     },
     "output_type": "display_data"
    }
   ],
   "source": [
    "import numpy as np\n",
    "import matplotlib.pyplot as plt\n",
    "\n",
    "x_pos = np.arange(len(all_models)) \n",
    "\n",
    "model_names = [model.split(\".\")[0] for model in all_models]\n",
    "\n",
    "plt.axhline(y=0.5, color='r', linestyle='--')  \n",
    "plt.bar(x_pos, all_accuracies, align='center')\n",
    "plt.xticks(x_pos, model_names, rotation = 90) \n",
    "plt.ylabel('Accuracy score')\n",
    "plt.show()"
   ]
  },
  {
   "cell_type": "code",
   "execution_count": null,
   "metadata": {},
   "outputs": [],
   "source": []
  }
 ],
 "metadata": {
  "kernelspec": {
   "display_name": "Python 3",
   "language": "python",
   "name": "python3"
  },
  "language_info": {
   "codemirror_mode": {
    "name": "ipython",
    "version": 3
   },
   "file_extension": ".py",
   "mimetype": "text/x-python",
   "name": "python",
   "nbconvert_exporter": "python",
   "pygments_lexer": "ipython3",
   "version": "3.8.3"
  }
 },
 "nbformat": 4,
 "nbformat_minor": 2
}
