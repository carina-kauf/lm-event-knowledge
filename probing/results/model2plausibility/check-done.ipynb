{
 "cells": [
  {
   "cell_type": "code",
   "execution_count": 3,
   "id": "7bf8f792",
   "metadata": {},
   "outputs": [
    {
     "name": "stdout",
     "output_type": "stream",
     "text": [
      "DONE!\n"
     ]
    }
   ],
   "source": [
    "import os\n",
    "\n",
    "dictionary = {\n",
    "    \"bert-large\" : 24,\n",
    "    \"roberta\" : 24,\n",
    "    \"gpt-j\" : 28,\n",
    "    \"gpt2-xl\" : 48\n",
    "}\n",
    "\n",
    "for filename in os.listdir():\n",
    "    for key, value in dictionary.items():\n",
    "        if key in filename:\n",
    "            try:\n",
    "                assert sum(1 for line in open(filename)) == value + 1\n",
    "            except:\n",
    "                print(f\"NOT DONE: {filename}\")\n",
    "print(\"DONE!\")"
   ]
  },
  {
   "cell_type": "code",
   "execution_count": null,
   "id": "35bbd105",
   "metadata": {},
   "outputs": [],
   "source": []
  }
 ],
 "metadata": {
  "kernelspec": {
   "display_name": "Python 3",
   "language": "python",
   "name": "python3"
  },
  "language_info": {
   "codemirror_mode": {
    "name": "ipython",
    "version": 3
   },
   "file_extension": ".py",
   "mimetype": "text/x-python",
   "name": "python",
   "nbconvert_exporter": "python",
   "pygments_lexer": "ipython3",
   "version": "3.8.13"
  }
 },
 "nbformat": 4,
 "nbformat_minor": 5
}
