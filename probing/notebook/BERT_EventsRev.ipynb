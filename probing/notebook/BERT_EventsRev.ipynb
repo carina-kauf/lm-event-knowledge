{
  "nbformat": 4,
  "nbformat_minor": 0,
  "metadata": {
    "colab": {
      "name": "BERT Automatic.ipynb",
      "provenance": [],
      "authorship_tag": "ABX9TyP1RVkV1fYJLEK+drm/JY5Y",
      "include_colab_link": true
    },
    "kernelspec": {
      "name": "python3",
      "display_name": "Python 3"
    },
    "language_info": {
      "name": "python"
    },
    "accelerator": "GPU"
  },
  "cells": [
    {
      "cell_type": "markdown",
      "metadata": {
        "id": "view-in-github",
        "colab_type": "text"
      },
      "source": [
        "<a href=\"https://colab.research.google.com/github/carina-kauf/lm-event-knowledge/blob/main/BERT_Automatic.ipynb\" target=\"_parent\"><img src=\"https://colab.research.google.com/assets/colab-badge.svg\" alt=\"Open In Colab\"/></a>"
      ]
    },
    {
      "cell_type": "code",
      "source": [
        "from google.colab import files\n",
        "uploaded = files.upload()\n",
        "#if it's events adapt, uncomment the AAR exclusion codes [change this to a variable]"
      ],
      "metadata": {
        "colab": {
          "resources": {
            "http://localhost:8080/nbextensions/google.colab/files.js": {
              "data": "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",
              "ok": true,
              "headers": [
                [
                  "content-type",
                  "application/javascript"
                ]
              ],
              "status": 200,
              "status_text": ""
            }
          },
          "base_uri": "https://localhost:8080/",
          "height": 73
        },
        "id": "SzG966n27-yX",
        "outputId": "87ffe8ed-42b9-4426-aed0-720a2b3fea74"
      },
      "execution_count": 7,
      "outputs": [
        {
          "output_type": "display_data",
          "data": {
            "text/plain": [
              "<IPython.core.display.HTML object>"
            ],
            "text/html": [
              "\n",
              "     <input type=\"file\" id=\"files-21acef8a-327f-44f0-a673-81f95aefb75e\" name=\"files[]\" multiple disabled\n",
              "        style=\"border:none\" />\n",
              "     <output id=\"result-21acef8a-327f-44f0-a673-81f95aefb75e\">\n",
              "      Upload widget is only available when the cell has been executed in the\n",
              "      current browser session. Please rerun this cell to enable.\n",
              "      </output>\n",
              "      <script src=\"/nbextensions/google.colab/files.js\"></script> "
            ]
          },
          "metadata": {}
        },
        {
          "output_type": "stream",
          "name": "stdout",
          "text": [
            "Saving clean_EventsRev_SentenceSet.csv to clean_EventsRev_SentenceSet (1).csv\n"
          ]
        }
      ]
    },
    {
      "cell_type": "code",
      "source": [
        "!pip install transformers\n",
        "import numpy as np\n",
        "import scipy\n",
        "from scipy import spatial\n",
        "from transformers import BertTokenizer, BertModel\n",
        "import torch\n",
        "import matplotlib.pyplot as plt\n",
        "import pandas as pd\n",
        "import statistics\n",
        "from sklearn.linear_model import LogisticRegression\n",
        "from sklearn.model_selection import train_test_split\n",
        "from sklearn import metrics\n",
        "import seaborn as sns"
      ],
      "metadata": {
        "colab": {
          "base_uri": "https://localhost:8080/"
        },
        "id": "uGd4OB6P-Hb2",
        "outputId": "86ce755f-f26a-4a91-9727-3848e7dee251"
      },
      "execution_count": 8,
      "outputs": [
        {
          "output_type": "stream",
          "name": "stdout",
          "text": [
            "Requirement already satisfied: transformers in /usr/local/lib/python3.7/dist-packages (4.17.0)\n",
            "Requirement already satisfied: filelock in /usr/local/lib/python3.7/dist-packages (from transformers) (3.6.0)\n",
            "Requirement already satisfied: requests in /usr/local/lib/python3.7/dist-packages (from transformers) (2.23.0)\n",
            "Requirement already satisfied: packaging>=20.0 in /usr/local/lib/python3.7/dist-packages (from transformers) (21.3)\n",
            "Requirement already satisfied: regex!=2019.12.17 in /usr/local/lib/python3.7/dist-packages (from transformers) (2019.12.20)\n",
            "Requirement already satisfied: huggingface-hub<1.0,>=0.1.0 in /usr/local/lib/python3.7/dist-packages (from transformers) (0.4.0)\n",
            "Requirement already satisfied: pyyaml>=5.1 in /usr/local/lib/python3.7/dist-packages (from transformers) (6.0)\n",
            "Requirement already satisfied: importlib-metadata in /usr/local/lib/python3.7/dist-packages (from transformers) (4.11.2)\n",
            "Requirement already satisfied: sacremoses in /usr/local/lib/python3.7/dist-packages (from transformers) (0.0.49)\n",
            "Requirement already satisfied: tqdm>=4.27 in /usr/local/lib/python3.7/dist-packages (from transformers) (4.63.0)\n",
            "Requirement already satisfied: numpy>=1.17 in /usr/local/lib/python3.7/dist-packages (from transformers) (1.21.5)\n",
            "Requirement already satisfied: tokenizers!=0.11.3,>=0.11.1 in /usr/local/lib/python3.7/dist-packages (from transformers) (0.11.6)\n",
            "Requirement already satisfied: typing-extensions>=3.7.4.3 in /usr/local/lib/python3.7/dist-packages (from huggingface-hub<1.0,>=0.1.0->transformers) (3.10.0.2)\n",
            "Requirement already satisfied: pyparsing!=3.0.5,>=2.0.2 in /usr/local/lib/python3.7/dist-packages (from packaging>=20.0->transformers) (3.0.7)\n",
            "Requirement already satisfied: zipp>=0.5 in /usr/local/lib/python3.7/dist-packages (from importlib-metadata->transformers) (3.7.0)\n",
            "Requirement already satisfied: idna<3,>=2.5 in /usr/local/lib/python3.7/dist-packages (from requests->transformers) (2.10)\n",
            "Requirement already satisfied: certifi>=2017.4.17 in /usr/local/lib/python3.7/dist-packages (from requests->transformers) (2021.10.8)\n",
            "Requirement already satisfied: urllib3!=1.25.0,!=1.25.1,<1.26,>=1.21.1 in /usr/local/lib/python3.7/dist-packages (from requests->transformers) (1.24.3)\n",
            "Requirement already satisfied: chardet<4,>=3.0.2 in /usr/local/lib/python3.7/dist-packages (from requests->transformers) (3.0.4)\n",
            "Requirement already satisfied: six in /usr/local/lib/python3.7/dist-packages (from sacremoses->transformers) (1.15.0)\n",
            "Requirement already satisfied: click in /usr/local/lib/python3.7/dist-packages (from sacremoses->transformers) (7.1.2)\n",
            "Requirement already satisfied: joblib in /usr/local/lib/python3.7/dist-packages (from sacremoses->transformers) (1.1.0)\n"
          ]
        }
      ]
    },
    {
      "cell_type": "code",
      "execution_count": 9,
      "metadata": {
        "colab": {
          "base_uri": "https://localhost:8080/"
        },
        "id": "keCfmCR74yPm",
        "outputId": "ac0c1f0c-24cd-4695-b4cd-9004c5ca16d3"
      },
      "outputs": [
        {
          "output_type": "stream",
          "name": "stderr",
          "text": [
            "Some weights of the model checkpoint at bert-large-cased were not used when initializing BertModel: ['cls.seq_relationship.bias', 'cls.predictions.transform.LayerNorm.bias', 'cls.predictions.transform.LayerNorm.weight', 'cls.predictions.transform.dense.weight', 'cls.predictions.decoder.weight', 'cls.predictions.bias', 'cls.seq_relationship.weight', 'cls.predictions.transform.dense.bias']\n",
            "- This IS expected if you are initializing BertModel from the checkpoint of a model trained on another task or with another architecture (e.g. initializing a BertForSequenceClassification model from a BertForPreTraining model).\n",
            "- This IS NOT expected if you are initializing BertModel from the checkpoint of a model that you expect to be exactly identical (initializing a BertForSequenceClassification model from a BertForSequenceClassification model).\n"
          ]
        }
      ],
      "source": [
        "#change to BERT-large-cased, roberta-large, gpt-2 medium + XL, tinySTM(?)\n",
        "\n",
        "tokenizer = BertTokenizer.from_pretrained('bert-large-cased')\n",
        "\n",
        "model = BertModel.from_pretrained('bert-large-cased',\n",
        "                                  output_hidden_states=True,  # Whether the model returns all hidden-states.\n",
        "                                    )\n",
        "model.eval()\n",
        "\n",
        "\n",
        "def get_vector(text, layer):\n",
        "    marked_text = \"[CLS] \" + text + \" [SEP]\"\n",
        "    tokenized_text = tokenizer.tokenize(marked_text)\n",
        "    indexed_tokens = tokenizer.convert_tokens_to_ids(tokenized_text)\n",
        "    segments_ids = [1] * len(tokenized_text)\n",
        "    tokens_tensor = torch.tensor([indexed_tokens])\n",
        "    segments_tensors = torch.tensor([segments_ids])\n",
        "\n",
        "    with torch.no_grad():\n",
        "        outputs = model(tokens_tensor, segments_tensors)\n",
        "        # `hidden_states` has shape [13 x 1 x 22 x 768]\n",
        "        hidden_states = outputs[2]\n",
        "\n",
        "    # `token_vecs` is a tensor with shape [22 x 768], the first index in hidden_states determines which layer it's on\n",
        "    token_vecs = hidden_states[layer][0]\n",
        "    # Calculate the average of all 22 token vectors.\n",
        "    sentence_embedding = token_vecs[0]\n",
        "    #torch.mean(token_vecs, dim=0)\n",
        "    return sentence_embedding.numpy()\n",
        "\n",
        "# m = get_vector(\"purse.\")\n",
        "# n = get_vector(\"The model is taking a picture of the photographer.\")\n",
        "# print(m-n)"
      ]
    },
    {
      "cell_type": "code",
      "source": [
        "# Read in files\n",
        "df_DT = pd.read_csv('clean_EventsRev_SentenceSet.csv')\n",
        "\n",
        "# Exclude AAR rows only for EventsAdapt\n",
        "\n",
        "# df_DT = df_DT[df_DT.TrialType != \"AAR\"]\n",
        "# df_DT = df_DT.reset_index()\n",
        "\n",
        "\n",
        "# DO NOT NEED THIS NOW BECAUSE SCIKIT LEARN AUTOMATICALLY CONVERTS BINARY ENTRIES\n",
        "\n",
        "# df_DT[\"Plausibility\"][df_DT[\"Plausibility\"] == \"Plausible\"] = 1\n",
        "# df_DT[\"Plausibility\"][df_DT[\"Plausibility\"] == \"Implausible\"] = 0\n",
        "# plausibility_DT = plausibility_DT.tolist()\n",
        "# plausibility = np.array(plausibility_DT)"
      ],
      "metadata": {
        "id": "zCoMxFZ-Na8N"
      },
      "execution_count": 10,
      "outputs": []
    },
    {
      "cell_type": "code",
      "source": [
        "def split(dataset, train_ratio):\n",
        "    unique_pairs_num = dataset['ItemNum'].nunique()    # 39\n",
        "    unique_index = df_DT['ItemNum'].unique()     # [1:40]\n",
        "    random_list_index = np.random.choice(unique_index, round(unique_pairs_num*train_ratio), replace = False)   # list of random indices to form training set\n",
        "\n",
        "    train = pd.concat((df_DT[df_DT['ItemNum'] == i] for i in random_list_index))\n",
        "    \n",
        "    test_pool = [i for i in unique_index if i not in random_list_index]   #list of ItemNum indices to form testing set\n",
        "    test = pd.concat((df_DT[df_DT['ItemNum'] == i] for i in test_pool))\n",
        "                                                      \n",
        "    train = train.reset_index()\n",
        "    test = test.reset_index()\n",
        "    return train, test"
      ],
      "metadata": {
        "id": "ZhZhZ_6vHMHR"
      },
      "execution_count": 11,
      "outputs": []
    },
    {
      "cell_type": "code",
      "source": [
        "# for each of the 13 layers.\n",
        "\n",
        "out = []\n",
        "for layernum in range(24):\n",
        "  Accuracy = []\n",
        "  for k in range(10):\n",
        "    # Splitting the dataset into training and testing\n",
        "    train, test = split(df_DT, 0.85)\n",
        "    \n",
        "    x_train = []\n",
        "    for i in range(len(train)):\n",
        "        x_train.append(get_vector(train[\"Sentence\"][i], layernum))\n",
        "    x_train = np.array(x_train)\n",
        "\n",
        "    x_test = []\n",
        "    for j in range(len(test)):\n",
        "        x_test.append(get_vector(test[\"Sentence\"][j], layernum))\n",
        "    x_test = np.array(x_test)\n",
        "\n",
        "    y_train = np.array(train[\"Plausibility\"])\n",
        "    y_test = np.array(test[\"Plausibility\"])\n",
        "\n",
        "    # Fitting regression\n",
        "    logreg = LogisticRegression(max_iter=500, solver='liblinear')\n",
        "    logreg.fit(x_train, y_train)\n",
        "    y_pred = logreg.predict(x_test)\n",
        "    Accuracy.append(metrics.accuracy_score(y_test, y_pred))\n",
        "    \n",
        "  print(\"layer\", layernum, statistics.mean(Accuracy))\n",
        "  print(Accuracy)\n",
        "  out.append(Accuracy)"
      ],
      "metadata": {
        "id": "FqxueQzhzS9d",
        "outputId": "a2a71fb1-4993-478a-9b12-5c69abf0bd14",
        "colab": {
          "base_uri": "https://localhost:8080/"
        }
      },
      "execution_count": 12,
      "outputs": [
        {
          "output_type": "stream",
          "name": "stdout",
          "text": [
            "layer 0 0.5\n",
            "[0.5, 0.5, 0.5, 0.5, 0.5, 0.5, 0.5, 0.5, 0.5, 0.5]\n",
            "layer 1 0.5083333333333333\n",
            "[0.5, 0.4166666666666667, 0.4166666666666667, 0.5833333333333334, 0.5, 0.5833333333333334, 0.5833333333333334, 0.5, 0.5, 0.5]\n",
            "layer 2 0.5\n",
            "[0.4166666666666667, 0.5, 0.5833333333333334, 0.4166666666666667, 0.5833333333333334, 0.5, 0.5, 0.5833333333333334, 0.5, 0.4166666666666667]\n",
            "layer 3 0.5\n",
            "[0.5, 0.4166666666666667, 0.5, 0.5833333333333334, 0.3333333333333333, 0.5, 0.5, 0.5833333333333334, 0.6666666666666666, 0.4166666666666667]\n",
            "layer 4 0.55\n",
            "[0.5833333333333334, 0.5, 0.5, 0.5833333333333334, 0.6666666666666666, 0.4166666666666667, 0.6666666666666666, 0.5833333333333334, 0.4166666666666667, 0.5833333333333334]\n",
            "layer 5 0.525\n",
            "[0.5, 0.5833333333333334, 0.5, 0.5, 0.5, 0.5, 0.5833333333333334, 0.4166666666666667, 0.6666666666666666, 0.5]\n",
            "layer 6 0.5916666666666667\n",
            "[0.5833333333333334, 0.5833333333333334, 0.75, 0.6666666666666666, 0.5, 0.5, 0.5833333333333334, 0.5, 0.6666666666666666, 0.5833333333333334]\n",
            "layer 7 0.5166666666666667\n",
            "[0.5833333333333334, 0.5833333333333334, 0.5833333333333334, 0.6666666666666666, 0.5833333333333334, 0.5, 0.5, 0.4166666666666667, 0.5, 0.25]\n",
            "layer 8 0.6083333333333334\n",
            "[0.6666666666666666, 0.6666666666666666, 0.5, 0.6666666666666666, 0.5833333333333334, 0.5, 0.5833333333333334, 0.5833333333333334, 0.75, 0.5833333333333334]\n",
            "layer 9 0.5666666666666667\n",
            "[0.5833333333333334, 0.5833333333333334, 0.5, 0.5833333333333334, 0.5833333333333334, 0.6666666666666666, 0.5833333333333334, 0.5833333333333334, 0.4166666666666667, 0.5833333333333334]\n",
            "layer 10 0.5916666666666667\n",
            "[0.5, 0.5, 0.6666666666666666, 0.75, 0.6666666666666666, 0.5833333333333334, 0.5, 0.5833333333333334, 0.5833333333333334, 0.5833333333333334]\n",
            "layer 11 0.6083333333333333\n",
            "[0.6666666666666666, 0.5, 0.5833333333333334, 0.6666666666666666, 0.6666666666666666, 0.5, 0.6666666666666666, 0.5833333333333334, 0.5, 0.75]\n",
            "layer 12 0.5833333333333334\n",
            "[0.6666666666666666, 0.5, 0.5, 0.5833333333333334, 0.5833333333333334, 0.6666666666666666, 0.5833333333333334, 0.5833333333333334, 0.5833333333333334, 0.5833333333333334]\n",
            "layer 13 0.6333333333333333\n",
            "[0.5833333333333334, 0.75, 0.5833333333333334, 0.5833333333333334, 0.6666666666666666, 0.5833333333333334, 0.5833333333333334, 0.6666666666666666, 0.5833333333333334, 0.75]\n",
            "layer 14 0.6\n",
            "[0.6666666666666666, 0.5, 0.5, 0.5833333333333334, 0.5833333333333334, 0.5, 0.75, 0.6666666666666666, 0.6666666666666666, 0.5833333333333334]\n",
            "layer 15 0.6333333333333333\n",
            "[0.5833333333333334, 0.5833333333333334, 0.75, 0.5833333333333334, 0.75, 0.6666666666666666, 0.5, 0.6666666666666666, 0.5833333333333334, 0.6666666666666666]\n",
            "layer 16 0.6666666666666666\n",
            "[0.75, 0.6666666666666666, 0.6666666666666666, 0.6666666666666666, 0.5833333333333334, 0.75, 0.6666666666666666, 0.75, 0.6666666666666666, 0.5]\n",
            "layer 17 0.6166666666666667\n",
            "[0.5833333333333334, 0.75, 0.5833333333333334, 0.6666666666666666, 0.5833333333333334, 0.6666666666666666, 0.5833333333333334, 0.5, 0.6666666666666666, 0.5833333333333334]\n",
            "layer 18 0.7166666666666667\n",
            "[0.5833333333333334, 0.6666666666666666, 0.9166666666666666, 0.75, 0.8333333333333334, 0.6666666666666666, 0.6666666666666666, 0.8333333333333334, 0.5833333333333334, 0.6666666666666666]\n",
            "layer 19 0.75\n",
            "[0.6666666666666666, 0.6666666666666666, 0.5833333333333334, 0.9166666666666666, 0.8333333333333334, 0.75, 0.6666666666666666, 0.75, 0.8333333333333334, 0.8333333333333334]\n",
            "layer 20 0.8333333333333334\n",
            "[0.6666666666666666, 0.75, 0.8333333333333334, 1.0, 0.9166666666666666, 0.9166666666666666, 0.8333333333333334, 0.9166666666666666, 0.6666666666666666, 0.8333333333333334]\n",
            "layer 21 0.8666666666666667\n",
            "[0.9166666666666666, 0.6666666666666666, 0.8333333333333334, 0.8333333333333334, 1.0, 1.0, 0.9166666666666666, 0.75, 1.0, 0.75]\n",
            "layer 22 0.7333333333333333\n",
            "[0.75, 0.75, 0.6666666666666666, 0.75, 0.6666666666666666, 0.75, 0.5833333333333334, 0.75, 0.75, 0.9166666666666666]\n",
            "layer 23 0.75\n",
            "[0.6666666666666666, 0.75, 0.75, 0.75, 0.6666666666666666, 1.0, 0.5833333333333334, 0.75, 0.6666666666666666, 0.9166666666666666]\n"
          ]
        }
      ]
    },
    {
      "cell_type": "code",
      "source": [
        "# Plotting\n",
        "df_out = pd.DataFrame(out)\n",
        "df_out = df_out.transpose()\n",
        "sns.set_theme(style=\"darkgrid\")\n",
        "ax = sns.pointplot(data = df_out)\n",
        "ax.set(xlabel=\"Layers\", ylabel = \"Accuracy\")\n",
        "ax.axhline(0.5, linestyle=\"dashed\")\n",
        "ax.set_title(\"EventsRev-BERT-large-cased\")\n",
        "plt.show()"
      ],
      "metadata": {
        "id": "h54WxFpgNfxq",
        "outputId": "2087501b-d725-4809-ba90-f01b0a049694",
        "colab": {
          "base_uri": "https://localhost:8080/",
          "height": 301
        }
      },
      "execution_count": 13,
      "outputs": [
        {
          "output_type": "display_data",
          "data": {
            "text/plain": [
              "<Figure size 432x288 with 1 Axes>"
            ],
            "image/png": "[encoded data removed]"
          },
          "metadata": {}
        }
      ]
    },
    {
      "cell_type": "code",
      "source": [
        "df_out.to_csv(\"EventsRev_BERT_large_cased\")"
      ],
      "metadata": {
        "id": "cw1XuS9INSrd"
      },
      "execution_count": 14,
      "outputs": []
    },
    {
      "cell_type": "code",
      "source": [
        ""
      ],
      "metadata": {
        "id": "gbGBiKHvNSmy"
      },
      "execution_count": null,
      "outputs": []
    },
    {
      "cell_type": "code",
      "source": [
        ""
      ],
      "metadata": {
        "id": "yarmGnzHNSkJ"
      },
      "execution_count": null,
      "outputs": []
    },
    {
      "cell_type": "code",
      "source": [
        ""
      ],
      "metadata": {
        "id": "tg9V-_4CNShx"
      },
      "execution_count": null,
      "outputs": []
    },
    {
      "cell_type": "code",
      "source": [
        ""
      ],
      "metadata": {
        "id": "GC1wlxrcNSfD"
      },
      "execution_count": null,
      "outputs": []
    },
    {
      "cell_type": "code",
      "source": [
        ""
      ],
      "metadata": {
        "id": "ec6Lq9UHNSTD"
      },
      "execution_count": null,
      "outputs": []
    },
    {
      "cell_type": "markdown",
      "source": [
        "Draft - DO NOT RUN!"
      ],
      "metadata": {
        "id": "w6AckVzANUHD"
      }
    },
    {
      "cell_type": "code",
      "source": [
        "# for each of the 13 layers.\n",
        "\n",
        "out = []\n",
        "for layer in range(13):\n",
        "    DT_vectors = []\n",
        "    for sentence in range(len(sentence_DT)):\n",
        "        DT_vectors.append(get_vector(sentence_DT[sentence], layer))\n",
        "    vectors = np.array(DT_vectors)\n",
        "    Accuracy = []\n",
        "    for k in range(10):\n",
        "        x_train, x_test, y_train, y_test = train_test_split(vectors, plausibility,\n",
        "                                                            test_size=0.15)\n",
        "        logreg = LogisticRegression()\n",
        "        logreg.fit(x_train, y_train)\n",
        "        y_pred = logreg.predict(x_test)\n",
        "        Accuracy.append(metrics.accuracy_score(y_test, y_pred))\n",
        "    print(\"layer\", layer, statistics.mean(Accuracy))\n",
        "    out.append(Accuracy)"
      ],
      "metadata": {
        "id": "OBKBQz165Fgy"
      },
      "execution_count": null,
      "outputs": []
    }
  ]
}
