{
 "cells": [
  {
   "cell_type": "code",
   "execution_count": 8,
   "id": "15c7076d",
   "metadata": {},
   "outputs": [],
   "source": [
    "import os\n",
    "import pandas as pd"
   ]
  },
  {
   "cell_type": "code",
   "execution_count": 11,
   "id": "e074385c",
   "metadata": {},
   "outputs": [
    {
     "name": "stdout",
     "output_type": "stream",
     "text": [
      "/rdma/vast-rdma/vast/cpl/ckauf/lm-event-knowledge/model_scores/EventsRev\n",
      "/rdma/vast-rdma/vast/cpl/ckauf/lm-event-knowledge/model_scores/EventsRev/ev1.bert-large-cased.sentence-PLL.average_byNrWords.txt\n",
      "/rdma/vast-rdma/vast/cpl/ckauf/lm-event-knowledge/model_scores/EventsRev\n",
      "/rdma/vast-rdma/vast/cpl/ckauf/lm-event-knowledge/model_scores/EventsRev/ev1.roberta-large.sentence-PLL.average_byNrWords.txt\n",
      "/rdma/vast-rdma/vast/cpl/ckauf/lm-event-knowledge/model_scores/EventsAdapt\n",
      "/rdma/vast-rdma/vast/cpl/ckauf/lm-event-knowledge/model_scores/EventsAdapt/new-EventsAdapt.bert-large-cased.sentence-PLL.average_byNrWords.txt\n",
      "/rdma/vast-rdma/vast/cpl/ckauf/lm-event-knowledge/model_scores/EventsAdapt\n",
      "/rdma/vast-rdma/vast/cpl/ckauf/lm-event-knowledge/model_scores/EventsAdapt/new-EventsAdapt.roberta-large.sentence-PLL.average_byNrWords.txt\n",
      "/rdma/vast-rdma/vast/cpl/ckauf/lm-event-knowledge/model_scores/DTFit\n",
      "/rdma/vast-rdma/vast/cpl/ckauf/lm-event-knowledge/model_scores/DTFit/dtfit.bert-large-cased.sentence-PLL.average_byNrWords.txt\n",
      "/rdma/vast-rdma/vast/cpl/ckauf/lm-event-knowledge/model_scores/DTFit\n",
      "/rdma/vast-rdma/vast/cpl/ckauf/lm-event-knowledge/model_scores/DTFit/dtfit.roberta-large.sentence-PLL.average_byNrWords.txt\n"
     ]
    }
   ],
   "source": [
    "dataset_names = [\"EventsRev\", \"EventsAdapt\", \"DTFit\"]\n",
    "\n",
    "for dat in dataset_names:\n",
    "    for model_name in [\"bert-large-cased\", \"roberta-large\"]:\n",
    "        filedir = os.path.abspath(f\"./{dat}\")\n",
    "        print(filedir)\n",
    "        for file in os.listdir(filedir):\n",
    "            if f\"{model_name}.sentence-PLL.average_byNrWords.txt\" in file:\n",
    "                sourcefile = os.path.join(filedir, file)\n",
    "                print(sourcefile)\n",
    "                df_source = pd.read_csv(sourcefile, sep=\"\\t\")\n",
    "            if f\"{model_name}.sentence-PLL.txt\" in file:\n",
    "                targetfile = os.path.join(filedir, file)\n",
    "                df_target = pd.read_csv(targetfile, sep=\"\\t\")\n",
    "        df_source.columns = [\"sentence_id\", \"sentence\", \"sentence_score\", \"nr_tokens\", \"nr_words\"]\n",
    "        copy_columns = df_source[[\"sentence_id\", \"nr_tokens\", \"nr_words\"]]\n",
    "        df_target.columns = [\"sentence_id\", \"sentence\", \"sentence_score\"]\n",
    "        df_target = df_target.merge(copy_columns, how=\"inner\", on=\"sentence_id\")\n",
    "        df_target.to_csv(f\"{targetfile.split('.txt')[0]}_withcols.txt\", sep=\"\\t\", header=None, index=False)"
   ]
  },
  {
   "cell_type": "code",
   "execution_count": null,
   "id": "70515bbb",
   "metadata": {},
   "outputs": [],
   "source": []
  }
 ],
 "metadata": {
  "kernelspec": {
   "display_name": "Python 3",
   "language": "python",
   "name": "python3"
  },
  "language_info": {
   "codemirror_mode": {
    "name": "ipython",
    "version": 3
   },
   "file_extension": ".py",
   "mimetype": "text/x-python",
   "name": "python",
   "nbconvert_exporter": "python",
   "pygments_lexer": "ipython3",
   "version": "3.8.13"
  }
 },
 "nbformat": 4,
 "nbformat_minor": 5
}
